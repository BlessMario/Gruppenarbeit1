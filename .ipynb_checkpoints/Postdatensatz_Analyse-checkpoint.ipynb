{
 "cells": [
  {
   "cell_type": "code",
   "execution_count": 1,
   "metadata": {},
   "outputs": [],
   "source": [
    "#Wir analysieren nun den Inhalt von sämtlichen Spalten\n",
    "#In diesem Schritt zeigen wir die Services der Post die an 19'000 Punkten der Schweiz angeboten werden"
   ]
  },
  {
   "cell_type": "code",
   "execution_count": null,
   "metadata": {},
   "outputs": [
    {
     "name": "stdout",
     "output_type": "stream",
     "text": [
      "\u001b[33mCache entry deserialization failed, entry ignored\u001b[0m\n",
      "Collecting pip\n",
      "  Using cached https://files.pythonhosted.org/packages/a4/6d/6463d49a933f547439d6b5b98b46af8742cc03ae83543e4d7688c2420f8b/pip-21.3.1-py3-none-any.whl\n",
      "Installing collected packages: pip\n",
      "  Found existing installation: pip 9.0.1\n",
      "    Uninstalling pip-9.0.1:\n",
      "      Successfully uninstalled pip-9.0.1\n",
      "Successfully installed pip-21.3.1\n",
      "\u001b[33mYou are using pip version 21.3.1, however version 22.1 is available.\n",
      "You should consider upgrading via the 'pip install --upgrade pip' command.\u001b[0m\n"
     ]
    }
   ],
   "source": [
    "!python -m pip install --upgrade pip\n",
    "import pandas as pd\n",
    "import openpyxl\n",
    "import xlrd\n",
    "import numpy as np\n",
    "from pandas import DataFrame\n",
    "\n",
    "import warnings\n",
    "warnings.filterwarnings(\"ignore\")\n",
    "\n",
    "!pip install matplotlib\n",
    "import matplotlib as mpl\n",
    "import matplotlib.pyplot as plt\n",
    "mpl.style.use('ggplot')\n",
    "\n",
    "!pip install folium\n",
    "import folium # plotting library\n",
    "from folium.plugins import MarkerCluster\n",
    "from folium.plugins import FastMarkerCluster"
   ]
  },
  {
   "cell_type": "code",
   "execution_count": null,
   "metadata": {},
   "outputs": [],
   "source": [
    "pd.set_option('display.max_columns', None)\n",
    "pd.set_option('display.max_rows', None)"
   ]
  },
  {
   "cell_type": "code",
   "execution_count": null,
   "metadata": {},
   "outputs": [],
   "source": [
    "df_basisdaten = pd.read_csv('basisdaten.csv', sep = ',')"
   ]
  },
  {
   "cell_type": "code",
   "execution_count": null,
   "metadata": {},
   "outputs": [],
   "source": [
    "df_basisdaten = df_basisdaten.drop(df_basisdaten.columns[[0]], axis=1) "
   ]
  },
  {
   "cell_type": "code",
   "execution_count": null,
   "metadata": {},
   "outputs": [],
   "source": [
    "df_basisdaten.shape"
   ]
  },
  {
   "cell_type": "code",
   "execution_count": null,
   "metadata": {},
   "outputs": [],
   "source": [
    "for col in df_basisdaten:\n",
    "    print(col, end = \": \")\n",
    "    print(df_basisdaten[col].nunique())"
   ]
  },
  {
   "cell_type": "code",
   "execution_count": null,
   "metadata": {},
   "outputs": [],
   "source": [
    "#Die meisten Services, die die Post anbietet sind Services zu Briefen und Paketen\n",
    "#Bei den Werten 0 handelt es sich um Postfachanlagen oder Briefkästen. \n",
    "#Der Wert 0 bedeutet soviel wie #\"ist ein Briefkasten oder Postfachanlage\". \n",
    "#ACHTUNG es hat 4 falsche 0 Werte, die einer Filiale zugeordnet sind\n",
    "#Wir werden dies in einem späteren Schritt bereinigen"
   ]
  },
  {
   "cell_type": "code",
   "execution_count": null,
   "metadata": {},
   "outputs": [],
   "source": [
    "df_basisdaten['groupename_de'].value_counts().to_frame()"
   ]
  },
  {
   "cell_type": "code",
   "execution_count": null,
   "metadata": {},
   "outputs": [],
   "source": [
    "df_basisdaten['service_de'].value_counts().to_frame()"
   ]
  },
  {
   "cell_type": "code",
   "execution_count": null,
   "metadata": {},
   "outputs": [],
   "source": [
    "#Hier bereinigen wir die \"0\" und entfernen die 4 fehlerhaften Einträge "
   ]
  },
  {
   "cell_type": "code",
   "execution_count": null,
   "metadata": {},
   "outputs": [],
   "source": [
    "#Dies sind die 4 fehlerhaften Einträge\n",
    "df_basisdaten.loc[(df_basisdaten['service_de'] == '0') & (df_basisdaten['poityp_de'] == 'Filiale')]"
   ]
  },
  {
   "cell_type": "code",
   "execution_count": null,
   "metadata": {},
   "outputs": [],
   "source": [
    "df_basisdaten.shape"
   ]
  },
  {
   "cell_type": "code",
   "execution_count": null,
   "metadata": {},
   "outputs": [],
   "source": [
    "df_basisdaten.drop(df_basisdaten.loc[(df_basisdaten['service_de'] == '0') & (df_basisdaten['poityp_de'] == 'Filiale')].index, inplace=True)"
   ]
  },
  {
   "cell_type": "code",
   "execution_count": null,
   "metadata": {},
   "outputs": [],
   "source": [
    "df_basisdaten.shape"
   ]
  },
  {
   "cell_type": "code",
   "execution_count": null,
   "metadata": {},
   "outputs": [],
   "source": [
    "#Hier setzen wir für die '0' den Wert 'ist_Briefkasten_Postfachanlage'"
   ]
  },
  {
   "cell_type": "code",
   "execution_count": null,
   "metadata": {},
   "outputs": [],
   "source": [
    "df_basisdaten.replace(\"0\", \n",
    "           \"ist_Briefkasten_Postfachanlage\", \n",
    "           inplace=True)"
   ]
  },
  {
   "cell_type": "code",
   "execution_count": null,
   "metadata": {},
   "outputs": [],
   "source": [
    "df_basisdaten['groupename_de'].value_counts().to_frame()"
   ]
  },
  {
   "cell_type": "code",
   "execution_count": null,
   "metadata": {},
   "outputs": [],
   "source": [
    "df_basisdaten['service_de'].value_counts().to_frame()"
   ]
  },
  {
   "cell_type": "code",
   "execution_count": null,
   "metadata": {},
   "outputs": [],
   "source": [
    "df_POI = df_basisdaten.drop(df_basisdaten[['description_de','address_city','address_zip','address_countrycode','address_street','service_de','groupename_de']], axis=1).drop_duplicates()"
   ]
  },
  {
   "cell_type": "code",
   "execution_count": null,
   "metadata": {},
   "outputs": [],
   "source": [
    "df_POI.shape"
   ]
  },
  {
   "cell_type": "code",
   "execution_count": null,
   "metadata": {},
   "outputs": [],
   "source": [
    "#Wir brauchen dieses Zwischenresultat später noch für die Analyse und daher speichern wir es in diesem df ab.\n",
    "df_POI_Analyse = df_POI"
   ]
  },
  {
   "cell_type": "code",
   "execution_count": null,
   "metadata": {},
   "outputs": [],
   "source": [
    "#Die Post hat am meisten Stellen, um Briefe einzuwerfen\n",
    "#Dicht gefolgt von Filialen und Standorten die Hausservice anbieten\n",
    "#Was ist Hausservice?\n",
    "#https://www.post.ch/de/standorte/hausservice#:~:text=Der%20Hausservice%20kann%20jederzeit%20von,Bargeld%20beziehen\n",
    "#Am wenigsten Standorte hat die Post für Brief- und Paketzentren"
   ]
  },
  {
   "cell_type": "code",
   "execution_count": null,
   "metadata": {},
   "outputs": [],
   "source": [
    "df_POI['poityp_de'].value_counts()"
   ]
  },
  {
   "cell_type": "code",
   "execution_count": null,
   "metadata": {},
   "outputs": [],
   "source": [
    "#Wir berechnen nun Kennzahlen fuer Poststandorte in den Kantonen\n",
    "#In diesem Schritt fügen wir die Anzahl Poststandort nach POI-Typ je Kanton hinzu\n",
    "#Da es zu wenig Einträge hat verzichten wir die Logistikzentren nach Kantonen zu gruppieren\n",
    "df_POI_Filiale = df_POI.loc[(df_POI['poityp_de'] == 'Filiale')]\n",
    "df_POI_Filiale['Filiale_Kanton'] = df_POI_Filiale.groupby(['address_kantoncode'])['poityp_de'].transform('count')\n",
    "df_attach_Filiale = df_POI_Filiale[['address_kantoncode','Filiale_Kanton']].drop_duplicates().sort_values(by=['address_kantoncode'])\n",
    "df_POI = pd.merge(df_POI, df_attach_Filiale, how=\"left\", on=['address_kantoncode'])"
   ]
  },
  {
   "cell_type": "code",
   "execution_count": null,
   "metadata": {},
   "outputs": [],
   "source": [
    "df_POI_Briefeinwurf = df_POI.loc[(df_POI['poityp_de'] == 'Briefeinwurf')]\n",
    "df_POI_Briefeinwurf['Briefeinwurf_Kanton'] = df_POI_Briefeinwurf.groupby(['address_kantoncode'])['poityp_de'].transform('count')\n",
    "df_attach_Briefeinwurf = df_POI_Briefeinwurf[['address_kantoncode','Briefeinwurf_Kanton']].drop_duplicates().sort_values(by=['address_kantoncode'])\n",
    "df_POI = pd.merge(df_POI, df_attach_Briefeinwurf, how=\"left\", on=['address_kantoncode'])"
   ]
  },
  {
   "cell_type": "code",
   "execution_count": null,
   "metadata": {},
   "outputs": [],
   "source": [
    "df_POI_Hausservice = df_POI.loc[(df_POI['poityp_de'] == 'Hausservice')]\n",
    "df_POI_Hausservice['Hausservice_Kanton'] = df_POI_Hausservice.groupby(['address_kantoncode'])['poityp_de'].transform('count')\n",
    "df_attach_Hausservice = df_POI_Hausservice[['address_kantoncode','Hausservice_Kanton']].drop_duplicates().sort_values(by=['address_kantoncode'])\n",
    "df_POI = pd.merge(df_POI, df_attach_Hausservice, how=\"left\", on=['address_kantoncode'])"
   ]
  },
  {
   "cell_type": "code",
   "execution_count": null,
   "metadata": {},
   "outputs": [],
   "source": [
    "df_POI_Postfachanlage = df_POI.loc[(df_POI['poityp_de'] == 'Postfachanlage')]\n",
    "df_POI_Postfachanlage['Postfachanlage_Kanton'] = df_POI_Postfachanlage.groupby(['address_kantoncode'])['poityp_de'].transform('count')\n",
    "df_attach_Postfachanlage = df_POI_Postfachanlage[['address_kantoncode','Postfachanlage_Kanton']].drop_duplicates().sort_values(by=['address_kantoncode'])\n",
    "df_POI = pd.merge(df_POI, df_attach_Postfachanlage, how=\"left\", on=['address_kantoncode'])"
   ]
  },
  {
   "cell_type": "code",
   "execution_count": null,
   "metadata": {},
   "outputs": [],
   "source": [
    "df_POI_Postomat = df_POI.loc[(df_POI['poityp_de'] == 'Postomat')]\n",
    "df_POI_Postomat['Postomat_Kanton'] = df_POI_Postomat.groupby(['address_kantoncode'])['poityp_de'].transform('count')\n",
    "df_attach_Postomat = df_POI_Postomat[['address_kantoncode','Postomat_Kanton']].drop_duplicates().sort_values(by=['address_kantoncode'])\n",
    "df_POI = pd.merge(df_POI, df_attach_Postomat, how=\"left\", on=['address_kantoncode'])"
   ]
  },
  {
   "cell_type": "code",
   "execution_count": null,
   "metadata": {},
   "outputs": [],
   "source": [
    "df_POI_PickPost_Drittstelle = df_POI.loc[(df_POI['poityp_de'] == 'PickPost-Drittstelle')]\n",
    "df_POI_PickPost_Drittstelle['PickPost-Drittstelle_Kanton'] = df_POI_PickPost_Drittstelle.groupby(['address_kantoncode'])['poityp_de'].transform('count')\n",
    "df_attach_PickPost_Drittstelle = df_POI_PickPost_Drittstelle[['address_kantoncode','PickPost-Drittstelle_Kanton']].drop_duplicates().sort_values(by=['address_kantoncode'])\n",
    "df_POI = pd.merge(df_POI, df_attach_PickPost_Drittstelle, how=\"left\", on=['address_kantoncode'])"
   ]
  },
  {
   "cell_type": "code",
   "execution_count": null,
   "metadata": {},
   "outputs": [],
   "source": [
    "df_POI_My_Post_24 = df_POI.loc[(df_POI['poityp_de'] == 'My Post 24')]\n",
    "df_POI_My_Post_24['My_Post_24_Kanton'] = df_POI_My_Post_24.groupby(['address_kantoncode'])['poityp_de'].transform('count')\n",
    "df_attach_My_Post_24= df_POI_My_Post_24[['address_kantoncode','My_Post_24_Kanton']].drop_duplicates().sort_values(by=['address_kantoncode'])\n",
    "df_POI = pd.merge(df_POI, df_attach_My_Post_24, how=\"left\", on=['address_kantoncode'])"
   ]
  },
  {
   "cell_type": "code",
   "execution_count": null,
   "metadata": {},
   "outputs": [],
   "source": [
    "df_POI_PostFinance_Standorte = df_POI.loc[(df_POI['poityp_de'] == 'PostFinance-Standorte')]\n",
    "df_POI_PostFinance_Standorte['PostFinance-Standorte_Kanton'] = df_POI_PostFinance_Standorte.groupby(['address_kantoncode'])['poityp_de'].transform('count')\n",
    "df_attach_PostFinance_Standorte= df_POI_PostFinance_Standorte[['address_kantoncode','PostFinance-Standorte_Kanton']].drop_duplicates().sort_values(by=['address_kantoncode'])\n",
    "df_POI = pd.merge(df_POI, df_attach_PostFinance_Standorte, how=\"left\", on=['address_kantoncode'])"
   ]
  },
  {
   "cell_type": "code",
   "execution_count": null,
   "metadata": {},
   "outputs": [],
   "source": [
    "df_POI_Post_Tankstelle = df_POI.loc[(df_POI['poityp_de'] == 'Post-Tankstelle')]\n",
    "df_POI_Post_Tankstelle['Post-Tankstelle_Kanton'] = df_POI_Post_Tankstelle.groupby(['address_kantoncode'])['poityp_de'].transform('count')\n",
    "df_attach_Post_Tankstelle= df_POI_Post_Tankstelle[['address_kantoncode','Post-Tankstelle_Kanton']].drop_duplicates().sort_values(by=['address_kantoncode'])\n",
    "df_POI = pd.merge(df_POI, df_attach_Post_Tankstelle, how=\"left\", on=['address_kantoncode'])"
   ]
  },
  {
   "cell_type": "code",
   "execution_count": null,
   "metadata": {},
   "outputs": [],
   "source": [
    "#Wir berechnen nun die Anzahl einzigartiger Standorte pro Kanton\n",
    "df_POI = df_POI.drop(df_POI[['poityp_de']], axis=1).drop_duplicates()"
   ]
  },
  {
   "cell_type": "code",
   "execution_count": null,
   "metadata": {},
   "outputs": [],
   "source": [
    "df_POI['POI_Kanton'] = df_POI.groupby(['address_kantoncode'])['geopoint'].transform('count')\n"
   ]
  },
  {
   "cell_type": "code",
   "execution_count": null,
   "metadata": {},
   "outputs": [],
   "source": [
    "#Wir berechnen nun die Anzahl Einwohner pro Kanton\n",
    "df_POI = df_POI.drop(df_POI[['geopoint','Geopoint_X','Geopoint_Y']], axis=1).drop_duplicates()"
   ]
  },
  {
   "cell_type": "code",
   "execution_count": null,
   "metadata": {},
   "outputs": [],
   "source": [
    "df_POI['Einwohner_Kanton'] = df_POI.groupby(['address_kantoncode'])['Einwohnerzahl'].transform('sum')"
   ]
  },
  {
   "cell_type": "code",
   "execution_count": null,
   "metadata": {},
   "outputs": [],
   "source": [
    "df_Kanton = df_POI.drop(df_POI[['address_gemeindeid','Einwohnerzahl']], axis=1).drop_duplicates().sort_values(by=['address_kantoncode'])"
   ]
  },
  {
   "cell_type": "code",
   "execution_count": null,
   "metadata": {},
   "outputs": [],
   "source": [
    "#Wir entfernen noch IT und FL aus dem Datensatz und konzentrieren uns rein auf die Schweizer Kantone\n",
    "df_Kanton.drop(df_Kanton.loc[(df_Kanton['address_kantoncode'] == 'IT')].index, inplace=True)\n",
    "df_Kanton.drop(df_Kanton.loc[(df_Kanton['address_kantoncode'] == 'FL')].index, inplace=True)"
   ]
  },
  {
   "cell_type": "code",
   "execution_count": null,
   "metadata": {},
   "outputs": [],
   "source": [
    "#Hier ersetzen wir die nan noch mit 0\n",
    "df_Kanton = df_Kanton.replace(np.nan, 0)\n",
    "df_Kanton= df_Kanton.set_index('address_kantoncode')\n",
    "df_Kanton"
   ]
  },
  {
   "cell_type": "code",
   "execution_count": null,
   "metadata": {},
   "outputs": [],
   "source": [
    "#Wir berechnen hier die Briefkasten und Filialen pro Einwohner\n",
    "sum_briefkasten = df_Kanton['Einwohner_Kanton'] / df_Kanton['Briefeinwurf_Kanton']\n",
    "df_Kanton['Briefkasten_pro_Einwohner'] = sum_briefkasten\n",
    "sum_filiale = df_Kanton['Einwohner_Kanton'] / df_Kanton['Filiale_Kanton']\n",
    "df_Kanton['Filiale_pro_Einwohner'] = sum_filiale"
   ]
  },
  {
   "cell_type": "code",
   "execution_count": null,
   "metadata": {},
   "outputs": [],
   "source": [
    "df_Kanton"
   ]
  },
  {
   "cell_type": "code",
   "execution_count": null,
   "metadata": {},
   "outputs": [],
   "source": [
    "#Wir analysieren nun Postdaten auf Kantonaler Ebene\n",
    "df_Kanton.describe()"
   ]
  },
  {
   "cell_type": "code",
   "execution_count": null,
   "metadata": {},
   "outputs": [],
   "source": [
    "df_Kanton['Filiale_Kanton'].to_frame().plot(kind='bar', figsize=(8, 5))\n",
    "\n",
    "plt.title('Filiale pro Kanton') \n",
    "plt.show()"
   ]
  },
  {
   "cell_type": "code",
   "execution_count": null,
   "metadata": {},
   "outputs": [],
   "source": [
    "df_Kanton['Briefeinwurf_Kanton'].to_frame().plot(kind='bar', figsize=(8, 5))\n",
    "\n",
    "plt.title('Briefkästen pro Kanton') \n",
    "plt.show()"
   ]
  },
  {
   "cell_type": "code",
   "execution_count": null,
   "metadata": {},
   "outputs": [],
   "source": [
    "df_Kanton['Filiale_pro_Einwohner'].to_frame().plot(kind='bar', figsize=(8, 5))\n",
    "\n",
    "plt.title('Filiale pro Einwohner') \n",
    "plt.show()"
   ]
  },
  {
   "cell_type": "code",
   "execution_count": null,
   "metadata": {},
   "outputs": [],
   "source": [
    "df_Kanton['Briefkasten_pro_Einwohner'].to_frame().plot(kind='bar', figsize=(8, 5))\n",
    "\n",
    "plt.title('Briefkasten pro Einwohner') \n",
    "plt.show()"
   ]
  },
  {
   "cell_type": "code",
   "execution_count": null,
   "metadata": {},
   "outputs": [],
   "source": [
    "df_temp = df_Kanton['Filiale_Kanton'].to_frame()\n",
    "\n",
    "y = df_temp['Filiale_Kanton']\n",
    "\n",
    "patches, texts = plt.pie(y, startangle=90, radius=1.2)\n",
    "\n",
    "percent = 100.*y/y.sum()\n",
    "labels = ['{0} - {1:1.2f} %'.format(i,j) for i,j in zip(df_temp.index, percent)]\n",
    "\n",
    "plt.title('Filialen pro Kanton')\n",
    "plt.axis('equal') \n",
    "plt.legend(patches, labels, loc='best', bbox_to_anchor=(-0.1, 1.),\n",
    "           fontsize=8)\n",
    "plt.show()"
   ]
  },
  {
   "cell_type": "code",
   "execution_count": null,
   "metadata": {},
   "outputs": [],
   "source": [
    "df_temp = df_Kanton['Briefeinwurf_Kanton'].to_frame()\n",
    "\n",
    "y = df_temp['Briefeinwurf_Kanton']\n",
    "\n",
    "patches, texts = plt.pie(y, startangle=90, radius=1.2)\n",
    "\n",
    "percent = 100.*y/y.sum()\n",
    "labels = ['{0} - {1:1.2f} %'.format(i,j) for i,j in zip(df_temp.index, percent)]\n",
    "\n",
    "plt.title('Briefkästen pro Kanton')\n",
    "plt.axis('equal') \n",
    "plt.legend(patches, labels, loc='best', bbox_to_anchor=(-0.1, 1.),\n",
    "           fontsize=8)\n",
    "plt.show()"
   ]
  },
  {
   "cell_type": "code",
   "execution_count": null,
   "metadata": {},
   "outputs": [],
   "source": [
    "# Farbgruppe nach POI-Typ\n",
    "out_lst_grpType = df_POI_Analyse.poityp_de.unique()\n",
    "out_df_grpType = pd.DataFrame(out_lst_grpType) \n",
    "out_df_grpType = out_df_grpType.rename(columns={0: \"poityp_de\"})\n",
    "out_df_grpType['colorGrp'] = out_df_grpType.apply(lambda x : list(np.random.choice(range(256), size=3)), axis=1)"
   ]
  },
  {
   "cell_type": "code",
   "execution_count": null,
   "metadata": {},
   "outputs": [],
   "source": [
    "out_df_grpType.sort_values(by='poityp_de').head()"
   ]
  },
  {
   "cell_type": "code",
   "execution_count": null,
   "metadata": {},
   "outputs": [],
   "source": [
    "df_POI_Analyse = pd.merge(df_POI_Analyse, out_df_grpType, on='poityp_de')"
   ]
  },
  {
   "cell_type": "code",
   "execution_count": null,
   "metadata": {},
   "outputs": [],
   "source": [
    "df_POI_Analyse.head()"
   ]
  },
  {
   "cell_type": "code",
   "execution_count": null,
   "metadata": {},
   "outputs": [],
   "source": [
    "#Zeige nur alle Filialen an\n",
    "df_POI_Analyse = df_POI_Analyse.loc[(df_POI_Analyse['poityp_de'] == 'Filiale')]"
   ]
  },
  {
   "cell_type": "code",
   "execution_count": null,
   "metadata": {},
   "outputs": [],
   "source": [
    "#Geopunkt Zentrum der Schweiz gemäss google maps\n",
    "latitude = 46.7985124\n",
    "longitude = 8.2295887"
   ]
  },
  {
   "cell_type": "code",
   "execution_count": null,
   "metadata": {},
   "outputs": [],
   "source": [
    "map_Post_POI = folium.Map(location=[latitude, longitude], zoom_start=8)\n",
    "\n",
    "for lat, lng, types, colo in zip(df_POI_Analyse['Geopoint_X'], df_POI_Analyse['Geopoint_Y'], df_POI_Analyse['poityp_de'], df_POI_Analyse['colorGrp']):\n",
    "            label = '{}, {} ; {};'.format(types, lat, lng)\n",
    "            label = folium.Popup(label, parse_html=True)\n",
    "            folium.CircleMarker(\n",
    "                [lat, lng],\n",
    "                radius=3,\n",
    "                popup=label,\n",
    "                color=f'#{int(colo[0]):02x}{int(colo[1]):02x}{int(colo[2]):02x}',\n",
    "                fill=True,\n",
    "                fill_color=f'#{int(colo[0]):02x}{int(colo[1]):02x}{int(colo[2]):02x}',\n",
    "                fill_opacity=0.7,\n",
    "                parse_html = False).add_to(map_Post_POI) \n",
    "        \n",
    "map_Post_POI"
   ]
  },
  {
   "cell_type": "code",
   "execution_count": null,
   "metadata": {},
   "outputs": [],
   "source": [
    "#Nun wollen wir anzeigen, wo überall in der Schweiz wir Tickets für Events bei der Post kaufen können.\n",
    "#Wir verwenden nun den Datensatz \"df_basisdaten\n",
    "df_basisdaten_tickets = df_basisdaten.loc[(df_basisdaten['service_de'] == 'Tickets')]"
   ]
  },
  {
   "cell_type": "code",
   "execution_count": null,
   "metadata": {},
   "outputs": [],
   "source": [
    "# Farbgruppe nach POI-Typ\n",
    "out_lst_grpType = df_basisdaten_tickets.service_de.unique()\n",
    "out_df_grpType = pd.DataFrame(out_lst_grpType) \n",
    "out_df_grpType = out_df_grpType.rename(columns={0: \"service_de\"})\n",
    "out_df_grpType['colorGrp'] = out_df_grpType.apply(lambda x : list(np.random.choice(range(256), size=3)), axis=1)"
   ]
  },
  {
   "cell_type": "code",
   "execution_count": null,
   "metadata": {},
   "outputs": [],
   "source": [
    "out_df_grpType.sort_values(by='service_de').head()"
   ]
  },
  {
   "cell_type": "code",
   "execution_count": null,
   "metadata": {},
   "outputs": [],
   "source": [
    "df_basisdaten_tickets = pd.merge(df_basisdaten_tickets, out_df_grpType, on='service_de')"
   ]
  },
  {
   "cell_type": "code",
   "execution_count": null,
   "metadata": {},
   "outputs": [],
   "source": [
    "df_basisdaten_tickets.head()"
   ]
  },
  {
   "cell_type": "code",
   "execution_count": null,
   "metadata": {},
   "outputs": [],
   "source": [
    "map_buy_tickets = folium.Map(location=[latitude, longitude], zoom_start=8)\n",
    "\n",
    "for lat, lng, buy_tickets, colo in zip(df_basisdaten_tickets['Geopoint_X'], df_basisdaten_tickets['Geopoint_Y'], df_basisdaten_tickets['service_de'], df_basisdaten_tickets['colorGrp']):\n",
    "            label = '{}, {} ; {};'.format(buy_tickets, lat, lng)\n",
    "            label = folium.Popup(label, parse_html=True)\n",
    "            folium.CircleMarker(\n",
    "                [lat, lng],\n",
    "                radius=3,\n",
    "                popup=label,\n",
    "                color=f'#{int(colo[0]):02x}{int(colo[1]):02x}{int(colo[2]):02x}',\n",
    "                fill=True,\n",
    "                fill_color=f'#{int(colo[0]):02x}{int(colo[1]):02x}{int(colo[2]):02x}',\n",
    "                fill_opacity=0.7,\n",
    "                parse_html = False).add_to(map_buy_tickets) \n",
    "        \n",
    "map_buy_tickets"
   ]
  },
  {
   "cell_type": "code",
   "execution_count": null,
   "metadata": {},
   "outputs": [],
   "source": []
  }
 ],
 "metadata": {
  "kernelspec": {
   "display_name": "Python 3",
   "language": "python",
   "name": "python3"
  },
  "language_info": {
   "codemirror_mode": {
    "name": "ipython",
    "version": 3
   },
   "file_extension": ".py",
   "mimetype": "text/x-python",
   "name": "python",
   "nbconvert_exporter": "python",
   "pygments_lexer": "ipython3",
   "version": "3.6.2"
  }
 },
 "nbformat": 4,
 "nbformat_minor": 2
}
